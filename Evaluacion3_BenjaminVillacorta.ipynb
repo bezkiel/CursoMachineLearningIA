{
 "cells": [
  {
   "cell_type": "code",
   "execution_count": 11,
   "metadata": {},
   "outputs": [],
   "source": [
    "import pandas as pd  \n",
    "import numpy as np \n",
    "import os\n",
    "import matplotlib.pyplot as plt\n",
    "import seaborn as sns\n",
    "import rpy2.robjects as robjects\n",
    "from rpy2.robjects.packages import importr\n",
    "# Convertir el dataframe de pandas a R\n",
    "from rpy2.robjects import pandas2ri\n",
    "from rpy2.robjects.conversion import localconverter\n",
    "\n"
   ]
  },
  {
   "cell_type": "markdown",
   "metadata": {},
   "source": [
    "## Lectura de dataset original"
   ]
  },
  {
   "cell_type": "code",
   "execution_count": 5,
   "metadata": {},
   "outputs": [
    {
     "name": "stdout",
     "output_type": "stream",
     "text": [
      "La ruta del archivo : c:\\Users\\Benjamin Villacorta\\Documents\\Python\\CursoML\\Evaluacion3\n"
     ]
    }
   ],
   "source": [
    "\n",
    "ruta_file = os.getcwd()\n",
    "print(\"La ruta del archivo :\", ruta_file)\n",
    "dt=pd.read_csv(ruta_file+\"/ObesityDataSet_raw_and_data_sinthetic.csv\")"
   ]
  },
  {
   "cell_type": "markdown",
   "metadata": {},
   "source": [
    "## Validamos estructura del DF"
   ]
  },
  {
   "cell_type": "code",
   "execution_count": 62,
   "metadata": {},
   "outputs": [
    {
     "data": {
      "text/plain": [
       "Gender                             object\n",
       "Age                               float64\n",
       "Height                            float64\n",
       "Weight                            float64\n",
       "family_history_with_overweight     object\n",
       "FAVC                               object\n",
       "FCVC                              float64\n",
       "NCP                               float64\n",
       "CAEC                               object\n",
       "SMOKE                              object\n",
       "CH2O                              float64\n",
       "SCC                                object\n",
       "FAF                               float64\n",
       "TUE                               float64\n",
       "CALC                               object\n",
       "MTRANS                             object\n",
       "NObeyesdad                         object\n",
       "dtype: object"
      ]
     },
     "execution_count": 62,
     "metadata": {},
     "output_type": "execute_result"
    }
   ],
   "source": [
    "# Validamos estructura del dataframe\n",
    "dt.dtypes"
   ]
  },
  {
   "cell_type": "code",
   "execution_count": 63,
   "metadata": {},
   "outputs": [
    {
     "data": {
      "text/plain": [
       "count    2111.000000\n",
       "mean        1.701677\n",
       "std         0.093305\n",
       "min         1.450000\n",
       "25%         1.630000\n",
       "50%         1.700499\n",
       "75%         1.768464\n",
       "max         1.980000\n",
       "Name: Height, dtype: float64"
      ]
     },
     "execution_count": 63,
     "metadata": {},
     "output_type": "execute_result"
    }
   ],
   "source": [
    "dt.Height.describe()    "
   ]
  },
  {
   "cell_type": "code",
   "execution_count": 64,
   "metadata": {},
   "outputs": [
    {
     "data": {
      "text/plain": [
       "count    2111.000000\n",
       "mean       86.586058\n",
       "std        26.191172\n",
       "min        39.000000\n",
       "25%        65.473343\n",
       "50%        83.000000\n",
       "75%       107.430682\n",
       "max       173.000000\n",
       "Name: Weight, dtype: float64"
      ]
     },
     "execution_count": 64,
     "metadata": {},
     "output_type": "execute_result"
    }
   ],
   "source": [
    "dt.Weight.describe()  "
   ]
  },
  {
   "cell_type": "code",
   "execution_count": 65,
   "metadata": {},
   "outputs": [
    {
     "data": {
      "text/plain": [
       "Gender\n",
       "Male      1068\n",
       "Female    1043\n",
       "Name: count, dtype: int64"
      ]
     },
     "execution_count": 65,
     "metadata": {},
     "output_type": "execute_result"
    }
   ],
   "source": [
    "dt.Gender.value_counts()                                           "
   ]
  },
  {
   "cell_type": "code",
   "execution_count": 45,
   "metadata": {},
   "outputs": [
    {
     "data": {
      "text/plain": [
       "<Axes: ylabel='Frequency'>"
      ]
     },
     "execution_count": 45,
     "metadata": {},
     "output_type": "execute_result"
    },
    {
     "data": {
      "image/png": "[encoded data removed]",
      "text/plain": [
       "<Figure size 640x480 with 1 Axes>"
      ]
     },
     "metadata": {},
     "output_type": "display_data"
    }
   ],
   "source": [
    "dt.Age.describe()\n",
    "dt.Age.plot(kind=\"hist\")   "
   ]
  },
  {
   "cell_type": "code",
   "execution_count": 40,
   "metadata": {},
   "outputs": [
    {
     "data": {
      "text/plain": [
       "family_history_with_overweight\n",
       "yes    0.817622\n",
       "no     0.182378\n",
       "Name: proportion, dtype: float64"
      ]
     },
     "execution_count": 40,
     "metadata": {},
     "output_type": "execute_result"
    }
   ],
   "source": [
    "dt.family_history_with_overweight.value_counts(normalize=True)\n"
   ]
  },
  {
   "cell_type": "markdown",
   "metadata": {},
   "source": [
    "## Agregue un genero mas para diversificar la data"
   ]
  },
  {
   "cell_type": "code",
   "execution_count": 6,
   "metadata": {},
   "outputs": [],
   "source": [
    "dt.loc[(dt['Age'] >= 19) & (dt['Age'] <= 23), 'Gender'] = 'NB'"
   ]
  },
  {
   "cell_type": "code",
   "execution_count": 73,
   "metadata": {},
   "outputs": [
    {
     "data": {
      "text/plain": [
       "count     2111\n",
       "unique       3\n",
       "top         NB\n",
       "freq       844\n",
       "Name: Gender, dtype: object"
      ]
     },
     "execution_count": 73,
     "metadata": {},
     "output_type": "execute_result"
    }
   ],
   "source": [
    "dt.Gender.describe()"
   ]
  },
  {
   "cell_type": "code",
   "execution_count": 74,
   "metadata": {},
   "outputs": [
    {
     "data": {
      "text/html": [
       "<div>\n",
       "<style scoped>\n",
       "    .dataframe tbody tr th:only-of-type {\n",
       "        vertical-align: middle;\n",
       "    }\n",
       "\n",
       "    .dataframe tbody tr th {\n",
       "        vertical-align: top;\n",
       "    }\n",
       "\n",
       "    .dataframe thead th {\n",
       "        text-align: right;\n",
       "    }\n",
       "</style>\n",
       "<table border=\"1\" class=\"dataframe\">\n",
       "  <thead>\n",
       "    <tr style=\"text-align: right;\">\n",
       "      <th></th>\n",
       "      <th>Gender</th>\n",
       "      <th>Age</th>\n",
       "      <th>Height</th>\n",
       "      <th>Weight</th>\n",
       "      <th>family_history_with_overweight</th>\n",
       "      <th>FAVC</th>\n",
       "      <th>FCVC</th>\n",
       "      <th>NCP</th>\n",
       "      <th>CAEC</th>\n",
       "      <th>SMOKE</th>\n",
       "      <th>CH2O</th>\n",
       "      <th>SCC</th>\n",
       "      <th>FAF</th>\n",
       "      <th>TUE</th>\n",
       "      <th>CALC</th>\n",
       "      <th>MTRANS</th>\n",
       "      <th>NObeyesdad</th>\n",
       "    </tr>\n",
       "  </thead>\n",
       "  <tbody>\n",
       "    <tr>\n",
       "      <th>0</th>\n",
       "      <td>NB</td>\n",
       "      <td>21.0</td>\n",
       "      <td>1.62</td>\n",
       "      <td>64.0</td>\n",
       "      <td>yes</td>\n",
       "      <td>no</td>\n",
       "      <td>2.0</td>\n",
       "      <td>3.0</td>\n",
       "      <td>Sometimes</td>\n",
       "      <td>no</td>\n",
       "      <td>2.0</td>\n",
       "      <td>no</td>\n",
       "      <td>0.0</td>\n",
       "      <td>1.0</td>\n",
       "      <td>no</td>\n",
       "      <td>Public_Transportation</td>\n",
       "      <td>Normal_Weight</td>\n",
       "    </tr>\n",
       "    <tr>\n",
       "      <th>1</th>\n",
       "      <td>NB</td>\n",
       "      <td>21.0</td>\n",
       "      <td>1.52</td>\n",
       "      <td>56.0</td>\n",
       "      <td>yes</td>\n",
       "      <td>no</td>\n",
       "      <td>3.0</td>\n",
       "      <td>3.0</td>\n",
       "      <td>Sometimes</td>\n",
       "      <td>yes</td>\n",
       "      <td>3.0</td>\n",
       "      <td>yes</td>\n",
       "      <td>3.0</td>\n",
       "      <td>0.0</td>\n",
       "      <td>Sometimes</td>\n",
       "      <td>Public_Transportation</td>\n",
       "      <td>Normal_Weight</td>\n",
       "    </tr>\n",
       "    <tr>\n",
       "      <th>2</th>\n",
       "      <td>NB</td>\n",
       "      <td>23.0</td>\n",
       "      <td>1.80</td>\n",
       "      <td>77.0</td>\n",
       "      <td>yes</td>\n",
       "      <td>no</td>\n",
       "      <td>2.0</td>\n",
       "      <td>3.0</td>\n",
       "      <td>Sometimes</td>\n",
       "      <td>no</td>\n",
       "      <td>2.0</td>\n",
       "      <td>no</td>\n",
       "      <td>2.0</td>\n",
       "      <td>1.0</td>\n",
       "      <td>Frequently</td>\n",
       "      <td>Public_Transportation</td>\n",
       "      <td>Normal_Weight</td>\n",
       "    </tr>\n",
       "    <tr>\n",
       "      <th>3</th>\n",
       "      <td>Male</td>\n",
       "      <td>27.0</td>\n",
       "      <td>1.80</td>\n",
       "      <td>87.0</td>\n",
       "      <td>no</td>\n",
       "      <td>no</td>\n",
       "      <td>3.0</td>\n",
       "      <td>3.0</td>\n",
       "      <td>Sometimes</td>\n",
       "      <td>no</td>\n",
       "      <td>2.0</td>\n",
       "      <td>no</td>\n",
       "      <td>2.0</td>\n",
       "      <td>0.0</td>\n",
       "      <td>Frequently</td>\n",
       "      <td>Walking</td>\n",
       "      <td>Overweight_Level_I</td>\n",
       "    </tr>\n",
       "    <tr>\n",
       "      <th>4</th>\n",
       "      <td>NB</td>\n",
       "      <td>22.0</td>\n",
       "      <td>1.78</td>\n",
       "      <td>89.8</td>\n",
       "      <td>no</td>\n",
       "      <td>no</td>\n",
       "      <td>2.0</td>\n",
       "      <td>1.0</td>\n",
       "      <td>Sometimes</td>\n",
       "      <td>no</td>\n",
       "      <td>2.0</td>\n",
       "      <td>no</td>\n",
       "      <td>0.0</td>\n",
       "      <td>0.0</td>\n",
       "      <td>Sometimes</td>\n",
       "      <td>Public_Transportation</td>\n",
       "      <td>Overweight_Level_II</td>\n",
       "    </tr>\n",
       "  </tbody>\n",
       "</table>\n",
       "</div>"
      ],
      "text/plain": [
       "  Gender   Age  Height  Weight family_history_with_overweight FAVC  FCVC  NCP  \\\n",
       "0     NB  21.0    1.62    64.0                            yes   no   2.0  3.0   \n",
       "1     NB  21.0    1.52    56.0                            yes   no   3.0  3.0   \n",
       "2     NB  23.0    1.80    77.0                            yes   no   2.0  3.0   \n",
       "3   Male  27.0    1.80    87.0                             no   no   3.0  3.0   \n",
       "4     NB  22.0    1.78    89.8                             no   no   2.0  1.0   \n",
       "\n",
       "        CAEC SMOKE  CH2O  SCC  FAF  TUE        CALC                 MTRANS  \\\n",
       "0  Sometimes    no   2.0   no  0.0  1.0          no  Public_Transportation   \n",
       "1  Sometimes   yes   3.0  yes  3.0  0.0   Sometimes  Public_Transportation   \n",
       "2  Sometimes    no   2.0   no  2.0  1.0  Frequently  Public_Transportation   \n",
       "3  Sometimes    no   2.0   no  2.0  0.0  Frequently                Walking   \n",
       "4  Sometimes    no   2.0   no  0.0  0.0   Sometimes  Public_Transportation   \n",
       "\n",
       "            NObeyesdad  \n",
       "0        Normal_Weight  \n",
       "1        Normal_Weight  \n",
       "2        Normal_Weight  \n",
       "3   Overweight_Level_I  \n",
       "4  Overweight_Level_II  "
      ]
     },
     "execution_count": 74,
     "metadata": {},
     "output_type": "execute_result"
    }
   ],
   "source": [
    "dt.head()"
   ]
  },
  {
   "cell_type": "markdown",
   "metadata": {},
   "source": [
    "# Limpieza de strings categoricos"
   ]
  },
  {
   "cell_type": "code",
   "execution_count": 7,
   "metadata": {},
   "outputs": [],
   "source": [
    "dt[\"family_history_with_overweight\"]=dt[\"family_history_with_overweight\"].str.upper().str.replace(\"_\",\" \")\n",
    "dt[\"MTRANS\"]=dt[\"MTRANS\"].str.upper().str.replace(\"_\",\" \")\n",
    "dt[\"NObeyesdad\"]=dt[\"NObeyesdad\"].str.upper().str.replace(\"_\",\" \")"
   ]
  },
  {
   "cell_type": "code",
   "execution_count": 253,
   "metadata": {},
   "outputs": [
    {
     "data": {
      "text/html": [
       "<div>\n",
       "<style scoped>\n",
       "    .dataframe tbody tr th:only-of-type {\n",
       "        vertical-align: middle;\n",
       "    }\n",
       "\n",
       "    .dataframe tbody tr th {\n",
       "        vertical-align: top;\n",
       "    }\n",
       "\n",
       "    .dataframe thead th {\n",
       "        text-align: right;\n",
       "    }\n",
       "</style>\n",
       "<table border=\"1\" class=\"dataframe\">\n",
       "  <thead>\n",
       "    <tr style=\"text-align: right;\">\n",
       "      <th></th>\n",
       "      <th>family_history_with_overweight</th>\n",
       "      <th>MTRANS</th>\n",
       "      <th>NObeyesdad</th>\n",
       "      <th>Weight</th>\n",
       "    </tr>\n",
       "  </thead>\n",
       "  <tbody>\n",
       "    <tr>\n",
       "      <th>0</th>\n",
       "      <td>YES</td>\n",
       "      <td>PUBLIC TRANSPORTATION</td>\n",
       "      <td>NORMAL WEIGHT</td>\n",
       "      <td>64.0</td>\n",
       "    </tr>\n",
       "    <tr>\n",
       "      <th>1</th>\n",
       "      <td>YES</td>\n",
       "      <td>PUBLIC TRANSPORTATION</td>\n",
       "      <td>NORMAL WEIGHT</td>\n",
       "      <td>56.0</td>\n",
       "    </tr>\n",
       "    <tr>\n",
       "      <th>2</th>\n",
       "      <td>YES</td>\n",
       "      <td>PUBLIC TRANSPORTATION</td>\n",
       "      <td>NORMAL WEIGHT</td>\n",
       "      <td>77.0</td>\n",
       "    </tr>\n",
       "    <tr>\n",
       "      <th>3</th>\n",
       "      <td>NO</td>\n",
       "      <td>WALKING</td>\n",
       "      <td>OVERWEIGHT LEVEL I</td>\n",
       "      <td>87.0</td>\n",
       "    </tr>\n",
       "    <tr>\n",
       "      <th>4</th>\n",
       "      <td>NO</td>\n",
       "      <td>PUBLIC TRANSPORTATION</td>\n",
       "      <td>OVERWEIGHT LEVEL II</td>\n",
       "      <td>89.8</td>\n",
       "    </tr>\n",
       "    <tr>\n",
       "      <th>5</th>\n",
       "      <td>NO</td>\n",
       "      <td>AUTOMOBILE</td>\n",
       "      <td>NORMAL WEIGHT</td>\n",
       "      <td>53.0</td>\n",
       "    </tr>\n",
       "    <tr>\n",
       "      <th>6</th>\n",
       "      <td>YES</td>\n",
       "      <td>MOTORBIKE</td>\n",
       "      <td>NORMAL WEIGHT</td>\n",
       "      <td>55.0</td>\n",
       "    </tr>\n",
       "    <tr>\n",
       "      <th>7</th>\n",
       "      <td>NO</td>\n",
       "      <td>PUBLIC TRANSPORTATION</td>\n",
       "      <td>NORMAL WEIGHT</td>\n",
       "      <td>53.0</td>\n",
       "    </tr>\n",
       "    <tr>\n",
       "      <th>8</th>\n",
       "      <td>YES</td>\n",
       "      <td>PUBLIC TRANSPORTATION</td>\n",
       "      <td>NORMAL WEIGHT</td>\n",
       "      <td>64.0</td>\n",
       "    </tr>\n",
       "    <tr>\n",
       "      <th>9</th>\n",
       "      <td>YES</td>\n",
       "      <td>PUBLIC TRANSPORTATION</td>\n",
       "      <td>NORMAL WEIGHT</td>\n",
       "      <td>68.0</td>\n",
       "    </tr>\n",
       "  </tbody>\n",
       "</table>\n",
       "</div>"
      ],
      "text/plain": [
       "  family_history_with_overweight                 MTRANS           NObeyesdad  \\\n",
       "0                            YES  PUBLIC TRANSPORTATION        NORMAL WEIGHT   \n",
       "1                            YES  PUBLIC TRANSPORTATION        NORMAL WEIGHT   \n",
       "2                            YES  PUBLIC TRANSPORTATION        NORMAL WEIGHT   \n",
       "3                             NO                WALKING   OVERWEIGHT LEVEL I   \n",
       "4                             NO  PUBLIC TRANSPORTATION  OVERWEIGHT LEVEL II   \n",
       "5                             NO             AUTOMOBILE        NORMAL WEIGHT   \n",
       "6                            YES              MOTORBIKE        NORMAL WEIGHT   \n",
       "7                             NO  PUBLIC TRANSPORTATION        NORMAL WEIGHT   \n",
       "8                            YES  PUBLIC TRANSPORTATION        NORMAL WEIGHT   \n",
       "9                            YES  PUBLIC TRANSPORTATION        NORMAL WEIGHT   \n",
       "\n",
       "   Weight  \n",
       "0    64.0  \n",
       "1    56.0  \n",
       "2    77.0  \n",
       "3    87.0  \n",
       "4    89.8  \n",
       "5    53.0  \n",
       "6    55.0  \n",
       "7    53.0  \n",
       "8    64.0  \n",
       "9    68.0  "
      ]
     },
     "execution_count": 253,
     "metadata": {},
     "output_type": "execute_result"
    }
   ],
   "source": [
    "dt[[\"family_history_with_overweight\",\"MTRANS\",\"NObeyesdad\",\"Weight\"]].head(10)\n",
    "#dt[(dt['AgeGroup'] == \"70-100\") & (dt['Gender'] == \"NB\")]\n",
    "#dt.isna().any()"
   ]
  },
  {
   "cell_type": "markdown",
   "metadata": {},
   "source": [
    "# Creo rangos de edad para realizar agrupaciones"
   ]
  },
  {
   "cell_type": "code",
   "execution_count": 8,
   "metadata": {},
   "outputs": [
    {
     "name": "stderr",
     "output_type": "stream",
     "text": [
      "C:\\Users\\Benjamin Villacorta\\AppData\\Local\\Temp\\ipykernel_2388\\1683890302.py:20: FutureWarning: The default of observed=False is deprecated and will be changed to True in a future version of pandas. Pass observed=False to retain current behavior or observed=True to adopt the future default and silence this warning.\n",
      "  dt_ag= dt.groupby([\"family_history_with_overweight\", \"Gender\", \"AgeGroup\", \"TipoPeso\"]).agg(\n"
     ]
    }
   ],
   "source": [
    "# Defino bins para las edades \n",
    "bins = [0, 18, 30, 50,70,100]\n",
    "labels = ['0-18', '19-30', '31-50', '51-69','70-100']\n",
    "dt['AgeGroup'] = pd.cut(dt['Age'], bins=bins, labels=labels, right=False)\n",
    "# Creo una clasificacion para hacer una grupo mas pequeño de tipos de sobrepeso\n",
    "clasificaciones = {\n",
    "    'NORMAL WEIGHT':'PESO NORMAL',\n",
    "    'INSUFFICIENT WEIGHT': 'PESO INSUFICIENTE',\n",
    "    'OBESITY TYPE I': 'OBESIDAD',\n",
    "    'OBESITY TYPE II': 'OBESIDAD',\n",
    "    'OBESITY TYPE III': 'OBESIDAD',\n",
    "    'OVERWEIGHT LEVEL I': 'SOBREPESO',\n",
    "    'OVERWEIGHT LEVEL II': 'SOBREPESO'\n",
    "}\n",
    "\n",
    "# Aplica clasificacion\n",
    "dt[\"TipoPeso\"] = dt['NObeyesdad'].map(clasificaciones).fillna(dt['NObeyesdad'])\n",
    "\n",
    "\n",
    "dt_ag= dt.groupby([\"family_history_with_overweight\", \"Gender\", \"AgeGroup\", \"TipoPeso\"]).agg(\n",
    "    promedio_Weight=(\"Weight\", \"mean\"),\n",
    "    cantidad_registros=(\"Weight\", \"size\")\n",
    ").reset_index()\n",
    "\n",
    "dt_ag[['promedio_Weight', 'cantidad_registros']] = dt_ag[['promedio_Weight', 'cantidad_registros']].fillna(0)\n"
   ]
  },
  {
   "cell_type": "code",
   "execution_count": 9,
   "metadata": {},
   "outputs": [
    {
     "name": "stderr",
     "output_type": "stream",
     "text": [
      "C:\\Users\\Benjamin Villacorta\\AppData\\Local\\Temp\\ipykernel_2388\\4023272659.py:9: FutureWarning: The default of observed=False is deprecated and will be changed to True in a future version of pandas. Pass observed=False to retain current behavior or observed=True to adopt the future default and silence this warning.\n",
      "  dt_ag3 = dt_ag.groupby(['TipoPeso','Gender','AgeGroup'])['cantidad_registros'].sum().reset_index()\n"
     ]
    }
   ],
   "source": [
    "pivot_df = dt_ag.pivot_table(index=['family_history_with_overweight', 'Gender'], \n",
    "                             columns='TipoPeso', \n",
    "                             values='cantidad_registros', \n",
    "                             aggfunc='sum').fillna(0)\n",
    "\n",
    "# agrupo clasificacion y los asigno a un nuevo dataframe\n",
    "dt_ag2 = dt_ag.groupby('TipoPeso')['cantidad_registros'].sum().reset_index()\n",
    "# Agrupo por clasificiacion y genero\n",
    "dt_ag3 = dt_ag.groupby(['TipoPeso','Gender','AgeGroup'])['cantidad_registros'].sum().reset_index()"
   ]
  },
  {
   "cell_type": "code",
   "execution_count": 18,
   "metadata": {},
   "outputs": [
    {
     "data": {
      "text/html": [
       "\n",
       "        <span>ListVector with 11 elements.</span>\n",
       "        <table>\n",
       "        <tbody>\n",
       "        \n",
       "          <tr>\n",
       "            <th>\n",
       "            data\n",
       "            </th>\n",
       "            <td>\n",
       "            \n",
       "        <span>R/rpy2 DataFrame (6 x 4)</span>\n",
       "        <table>\n",
       "          <thead>\n",
       "            <tr>\n",
       "              \n",
       "              <th>OBESIDAD</th>\n",
       "              \n",
       "              <th>PESO INSUFICIENTE</th>\n",
       "              \n",
       "              <th>PESO NORMAL</th>\n",
       "              \n",
       "              <th>SOBREPESO</th>\n",
       "              \n",
       "            </tr>\n",
       "          </thead>\n",
       "          <tbody>\n",
       "          \n",
       "          <tr>\n",
       "            \n",
       "            <td>\n",
       "              ...\n",
       "            </td>\n",
       "            \n",
       "            <td>\n",
       "              ...\n",
       "            </td>\n",
       "            \n",
       "            <td>\n",
       "              ...\n",
       "            </td>\n",
       "            \n",
       "            <td>\n",
       "              ...\n",
       "            </td>\n",
       "            \n",
       "          </tr>\n",
       "          \n",
       "          </tbody>\n",
       "        </table>\n",
       "    \n",
       "            </td>\n",
       "          </tr>\n",
       "        \n",
       "          <tr>\n",
       "            <th>\n",
       "            layers\n",
       "            </th>\n",
       "            <td>\n",
       "            \n",
       "        <span>ListVector with 1 elements.</span>\n",
       "        <table>\n",
       "        <tbody>\n",
       "        \n",
       "          <tr>\n",
       "            <th>\n",
       "            [no name]\n",
       "            </th>\n",
       "            <td>\n",
       "            <rpy2.rinterface_lib.sexp.SexpEnvironment object at 0x000001AAA9B777D0> [4]\n",
       "            </td>\n",
       "          </tr>\n",
       "        \n",
       "        </tbody>\n",
       "        </table>\n",
       "        \n",
       "            </td>\n",
       "          </tr>\n",
       "        \n",
       "          <tr>\n",
       "            <th>\n",
       "            scales\n",
       "            </th>\n",
       "            <td>\n",
       "            <ggproto object: Class ScalesList, gg>\n",
       "    add: function\n",
       "    add_defaults: function\n",
       "    add_missing: function\n",
       "    backtransform_df: function\n",
       "    clone: function\n",
       "    find: function\n",
       "    get_scales: function\n",
       "    has_scale: function\n",
       "    input: function\n",
       "    map_df: function\n",
       "    n: function\n",
       "    non_position_scales: function\n",
       "    scales: list\n",
       "    train_df: function\n",
       "    transform_df: function\n",
       "    super:  <ggproto object: Class ScalesList, gg>\n",
       "\n",
       "            </td>\n",
       "          </tr>\n",
       "        \n",
       "          <tr>\n",
       "            <th>\n",
       "            ...\n",
       "            </th>\n",
       "            <td>\n",
       "            ...\n",
       "            </td>\n",
       "          </tr>\n",
       "        \n",
       "          <tr>\n",
       "            <th>\n",
       "            plot_env\n",
       "            </th>\n",
       "            <td>\n",
       "            <environment: R_GlobalEnv>\n",
       "\n",
       "            </td>\n",
       "          </tr>\n",
       "        \n",
       "          <tr>\n",
       "            <th>\n",
       "            layout\n",
       "            </th>\n",
       "            <td>\n",
       "            <ggproto object: Class Layout, gg>\n",
       "    coord: NULL\n",
       "    coord_params: list\n",
       "    facet: NULL\n",
       "    facet_params: list\n",
       "    finish_data: function\n",
       "    get_scales: function\n",
       "    layout: NULL\n",
       "    map_position: function\n",
       "    panel_params: NULL\n",
       "    panel_scales_x: NULL\n",
       "    panel_scales_y: NULL\n",
       "    render: function\n",
       "    render_labels: function\n",
       "    reset_scales: function\n",
       "    resolve_label: function\n",
       "    setup: function\n",
       "    setup_panel_guides: function\n",
       "    setup_panel_params: function\n",
       "    train_position: function\n",
       "    super:  <ggproto object: Class Layout, gg>\n",
       "\n",
       "            </td>\n",
       "          </tr>\n",
       "        \n",
       "          <tr>\n",
       "            <th>\n",
       "            labels\n",
       "            </th>\n",
       "            <td>\n",
       "            \n",
       "        <span>ListVector with 4 elements.</span>\n",
       "        <table>\n",
       "        <tbody>\n",
       "        \n",
       "          <tr>\n",
       "            <th>\n",
       "            x\n",
       "            </th>\n",
       "            <td>\n",
       "            <rpy2.rinterface_lib.sexp.StrSexpVector object at 0x000001AAA9B76D90> [16]\n",
       "            </td>\n",
       "          </tr>\n",
       "        \n",
       "          <tr>\n",
       "            <th>\n",
       "            y\n",
       "            </th>\n",
       "            <td>\n",
       "            <rpy2.rinterface_lib.sexp.StrSexpVector object at 0x000001AAA9B77450> [16]\n",
       "            </td>\n",
       "          </tr>\n",
       "        \n",
       "          <tr>\n",
       "            <th>\n",
       "            fill\n",
       "            </th>\n",
       "            <td>\n",
       "            <rpy2.rinterface_lib.sexp.StrSexpVector object at 0x000001AAA9B77F90> [16]\n",
       "            </td>\n",
       "          </tr>\n",
       "        \n",
       "          <tr>\n",
       "            <th>\n",
       "            title\n",
       "            </th>\n",
       "            <td>\n",
       "            <rpy2.rinterface_lib.sexp.StrSexpVector object at 0x000001AAA9B77510> [16]\n",
       "            </td>\n",
       "          </tr>\n",
       "        \n",
       "        </tbody>\n",
       "        </table>\n",
       "        \n",
       "            </td>\n",
       "          </tr>\n",
       "        \n",
       "        </tbody>\n",
       "        </table>\n",
       "        "
      ],
      "text/plain": [
       "<rpy2.robjects.vectors.ListVector object at 0x000001AAA9B752D0> [19]\n",
       "R classes: ('gg', 'ggplot')\n",
       "[ListSexpV..., ListSexpV..., SexpEnvir..., SexpEnvir..., ..., SexpEnvir..., SexpEnvir..., SexpEnvir..., ListSexpV...]\n",
       "<rpy2.robjects.vectors.ListVector object at 0x000001AAA9B752D0> [19]\n",
       "R classes: ('gg', 'ggplot')\n",
       "[ListSexpV..., ListSexpV..., SexpEnvir..., SexpEnvir..., ..., SexpEnvir..., SexpEnvir..., SexpEnvir..., ListSexpV...]\n",
       "<rpy2.robjects.vectors.ListVector object at 0x000001AAA9B752D0> [19]\n",
       "R classes: ('gg', 'ggplot')\n",
       "[ListSexpV..., ListSexpV..., SexpEnvir..., SexpEnvir..., ..., SexpEnvir..., SexpEnvir..., SexpEnvir..., ListSexpV...]\n",
       "  scales: <class 'rpy2.robjects.environments.Environment'>\n",
       "  <rpy2.robjects.environments.Environment object at 0x000001AAA9B75110> [4]\n",
       "R classes: ('ScalesList', 'ggproto', 'gg')\n",
       "n items: 2\n",
       "  guides: <class 'rpy2.robjects.environments.Environment'>\n",
       "  <rpy2.robjects.environments.Environment object at 0x000001AAA9B76D10> [4]\n",
       "R classes: ('Guides', 'ggproto', 'gg')\n",
       "n items: 2\n",
       "...\n",
       "  theme: <class 'rpy2.robjects.environments.Environment'>\n",
       "  <rpy2.robjects.environments.Environment object at 0x000001AAA9B75710> [4]\n",
       "R classes: ('FacetNull', 'Facet', 'ggproto', 'gg')\n",
       "n items: 2\n",
       "  coordinates: <class 'rpy2.robjects.environments.Environment'>\n",
       "  <rpy2.robjects.environments.Environment object at 0x000001AAA9B76510> [4]\n",
       "R classes: ('environment',)\n",
       "n items: 7\n",
       "  facet: <class 'rpy2.robjects.environments.Environment'>\n",
       "  <rpy2.robjects.environments.Environment object at 0x000001AAA9B755D0> [4]\n",
       "R classes: ('Layout', 'ggproto', 'gg')\n",
       "n items: 1\n",
       "<rpy2.robjects.vectors.ListVector object at 0x000001AAA9B752D0> [19]\n",
       "R classes: ('gg', 'ggplot')\n",
       "[ListSexpV..., ListSexpV..., SexpEnvir..., SexpEnvir..., ..., SexpEnvir..., SexpEnvir..., SexpEnvir..., ListSexpV...]"
      ]
     },
     "execution_count": 18,
     "metadata": {},
     "output_type": "execute_result"
    }
   ],
   "source": [
    "with localconverter(robjects.default_converter + pandas2ri.converter):\n",
    "    r_pivot_df = robjects.conversion.py2rpy(pivot_df)\n",
    "\n",
    "# Importar ggplot2 en R\n",
    "importr('ggplot2')\n",
    "\n",
    "# Definir el código R como una cadena de texto\n",
    "r_code = \"\"\"\n",
    "library(ggplot2)\n",
    "ggplot(r_pivot_df, aes(x = factor(Tiene_antecedentes_familiares), fill = factor(Niveles_de_sobrepeso_obesidad))) +\n",
    "  geom_bar(position = \"stack\", stat = \"identity\") +\n",
    "  labs(x = 'Tiene antecedentes familiares con sobrepeso',\n",
    "       y = 'Cantidad de casos',\n",
    "       title = 'Relación de antecedentes familiares de personas con sobrepeso',\n",
    "       fill = 'Niveles de sobrepeso/obesidad') +\n",
    "  theme_minimal()\n",
    "\"\"\"\n",
    "\n",
    "# Pasar el dataframe a R\n",
    "robjects.globalenv['r_pivot_df'] = r_pivot_df\n",
    "\n",
    "# Ejecutar el código R\n",
    "robjects.r(r_code)\n"
   ]
  },
  {
   "cell_type": "markdown",
   "metadata": {},
   "source": [
    "### Dado el resultado anterior podemos determinar que existe una estrecha relacion donde una gran cantidad de personas sobre peso tiene antecedentes familiares"
   ]
  },
  {
   "cell_type": "code",
   "execution_count": 11,
   "metadata": {},
   "outputs": [
    {
     "ename": "",
     "evalue": "",
     "output_type": "error",
     "traceback": [
      "\u001b[1;31mThe Kernel crashed while executing code in the current cell or a previous cell. \n",
      "\u001b[1;31mPlease review the code in the cell(s) to identify a possible cause of the failure. \n",
      "\u001b[1;31mClick <a href='https://aka.ms/vscodeJupyterKernelCrash'>here</a> for more info. \n",
      "\u001b[1;31mView Jupyter <a href='command:jupyter.viewOutput'>log</a> for further details."
     ]
    }
   ],
   "source": [
    "\n",
    "# Crear un dataframe de ejemplo similar a dt_ag2 en Python\n",
    "dt_ag2 = pd.DataFrame({\n",
    "    'TipoPeso': ['Bajo', 'Medio', 'Alto', 'Muy Alto'],\n",
    "    'cantidad_registros': [10, 20, 30, 40]\n",
    "})\n",
    "\n",
    "# Convertir el dataframe de pandas a R usando un convertidor local\n",
    "with localconverter(robjects.default_converter + pandas2ri.converter):\n",
    "    r_dt_ag2 = robjects.conversion.py2rpy(dt_ag2)\n",
    "\n",
    "# Importar las librerías necesarias en R\n",
    "importr('graphics')\n",
    "\n",
    "# Definir el código R como una cadena de texto\n",
    "r_code = \"\"\"\n",
    "pie(r_dt_ag2$cantidad_registros, labels = r_dt_ag2$TipoPeso, \n",
    "    main = 'Distribución de pesos de la población', \n",
    "    col = rainbow(length(r_dt_ag2$TipoPeso)), \n",
    "    init.angle = 140)\n",
    "\"\"\"\n",
    "\n",
    "# Pasar el dataframe a R\n",
    "robjects.globalenv['r_dt_ag2'] = r_dt_ag2\n",
    "\n",
    "# Ejecutar el código R\n",
    "robjects.r(r_code)"
   ]
  },
  {
   "cell_type": "markdown",
   "metadata": {},
   "source": [
    "### Acá se puede notar claramente que el segmento mayoritario son las personas con problemas de obesidad Y que el peso normal tiene distribución cercana al pesos insuficiente, esto quiere decir que gran parte del dataset mas 75%, son personas con problemas de salud alimentaria"
   ]
  },
  {
   "cell_type": "code",
   "execution_count": 15,
   "metadata": {},
   "outputs": [],
   "source": [
    "# Convertir el dataframe de pandas a R usando un convertidor local\n",
    "with localconverter(robjects.default_converter + pandas2ri.converter):\n",
    "    r_dt_ag3 = robjects.conversion.py2rpy(dt_ag3)\n",
    "\n",
    "# Importar ggplot2 en R\n",
    "importr('ggplot2')\n",
    "\n",
    "# Definir el código R como una cadena de texto\n",
    "r_code = \"\"\"\n",
    "colors <- c('Female' = 'red', 'Male' = 'blue', 'NB' = 'green')\n",
    "p <- ggplot(r_dt_ag3, aes(x = cantidad_registros, y = TipoPeso, color = Gender)) +\n",
    "  geom_point(size = 3) +\n",
    "  scale_color_manual(values = colors) +\n",
    "  labs(title = 'Relación entre Cantidad y Tipo de Obesidad',\n",
    "       x = 'Cantidad',\n",
    "       y = 'Tipo de Obesidad') +\n",
    "  theme_minimal()\n",
    "print(p)\n",
    "\"\"\"\n",
    "\n",
    "# Pasar el dataframe a R\n",
    "robjects.globalenv['r_dt_ag3'] = r_dt_ag3\n",
    "\n",
    "# Ejecutar el código R\n",
    "robjects.r(r_code)"
   ]
  },
  {
   "cell_type": "markdown",
   "metadata": {},
   "source": [
    "### De  la siguiente visualizacion me quedan claro dos 2 cosas: En la poblacion femenina hay un tasa alta de peso insuficiente y la poblacion masculina tiene una tasa alta de obesidad mientras que la poblacion no binaria tiene una tasa alta de sobre peso"
   ]
  },
  {
   "cell_type": "code",
   "execution_count": 16,
   "metadata": {},
   "outputs": [
    {
     "name": "stdout",
     "output_type": "stream",
     "text": [
      "`summarise()` has grouped output by 'AgeGroup', 'TipoPeso'. You can override\n",
      "using the `.groups` argument.\n"
     ]
    }
   ],
   "source": [
    "# Convertir el dataframe de pandas a R usando un convertidor local\n",
    "with localconverter(robjects.default_converter + pandas2ri.converter):\n",
    "    r_dt_ag3 = robjects.conversion.py2rpy(dt_ag3)\n",
    "\n",
    "# Importar las libreras necesarias en R\n",
    "importr('ggplot2')\n",
    "importr('dplyr')\n",
    "\n",
    "# Definir el codigo R como una cadena de texto\n",
    "r_code = \"\"\"\n",
    "library(ggplot2)\n",
    "library(dplyr)\n",
    "\n",
    "# Agrupar y sumar los datos\n",
    "dt_ag3_summary <- r_dt_ag3 %>%\n",
    "  group_by(AgeGroup, TipoPeso, Gender) %>%\n",
    "  summarise(cantidad_registros = sum(cantidad_registros)) %>%\n",
    "  ungroup()\n",
    "\n",
    "# Crear el gráfico de barras agrupadas\n",
    "p <- ggplot(dt_ag3_summary, aes(x = interaction(AgeGroup, TipoPeso), y = cantidad_registros, fill = Gender)) +\n",
    "  geom_bar(stat = \"identity\", position = \"dodge\") +\n",
    "  labs(x = 'Rango de edad y tipo peso',\n",
    "       y = 'Cantidad',\n",
    "       title = 'Distribución de Cantidad por rango de edad, tipo de peso y Género',\n",
    "       fill = 'Género') +\n",
    "  theme_minimal() +\n",
    "  theme(axis.text.x = element_text(angle = 45, hjust = 1))\n",
    "\n",
    "# Mostrar el gráfico\n",
    "print(p)\n",
    "\"\"\"\n",
    "\n",
    "# Pasar el dataframe a R\n",
    "robjects.globalenv['r_dt_ag3'] = r_dt_ag3\n",
    "\n",
    "# Ejecutar el código R\n",
    "robjects.r(r_code)"
   ]
  },
  {
   "cell_type": "markdown",
   "metadata": {},
   "source": [
    "### Se creo la clasificiacion rango edad - tipo de pesos y se busca analizar la distribución entre los generos"
   ]
  },
  {
   "cell_type": "code",
   "execution_count": 17,
   "metadata": {},
   "outputs": [
    {
     "name": "stdout",
     "output_type": "stream",
     "text": [
      "`summarise()` has grouped output by 'AgeGroup', 'TipoPeso'. You can override\n",
      "using the `.groups` argument.\n"
     ]
    }
   ],
   "source": [
    "with localconverter(robjects.default_converter + pandas2ri.converter):\n",
    "    r_dt_ag = robjects.conversion.py2rpy(dt_ag)\n",
    "\n",
    "# Importar las librerías necesarias en R\n",
    "importr('ggplot2')\n",
    "importr('dplyr')\n",
    "\n",
    "# Definir el codigo R como una cadena de texto\n",
    "r_code = \"\"\"\n",
    "library(ggplot2)\n",
    "library(dplyr)\n",
    "\n",
    "# Agrupar y sumar los datos\n",
    "dt_ag_summary <- r_dt_ag %>%\n",
    "  group_by(AgeGroup, TipoPeso, Gender) %>%\n",
    "  summarise(promedio_Weight = sum(promedio_Weight)) %>%\n",
    "  ungroup()\n",
    "\n",
    "# Crear el gráfico de barras agrupadas\n",
    "p <- ggplot(dt_ag_summary, aes(x = interaction(AgeGroup, TipoPeso), y = promedio_Weight, fill = Gender)) +\n",
    "  geom_bar(stat = \"identity\", position = \"dodge\") +\n",
    "  labs(x = 'Rango de edad y tipo peso',\n",
    "       y = 'Promedio',\n",
    "       title = 'Distribución de Cantidad por rango de edad, tipo de peso y Género',\n",
    "       fill = 'Género') +\n",
    "  theme_minimal() +\n",
    "  theme(axis.text.x = element_text(angle = 45, hjust = 1))\n",
    "\n",
    "# Mostrar el gráfico\n",
    "print(p)\n",
    "\"\"\"\n",
    "\n",
    "# Pasar el dataframe a R\n",
    "robjects.globalenv['r_dt_ag'] = r_dt_ag\n",
    "\n",
    "# Ejecutar el código R\n",
    "robjects.r(r_code)"
   ]
  },
  {
   "cell_type": "markdown",
   "metadata": {},
   "source": [
    "### Vista de promedio de los tipos de pesos por rango de edad y apilado por genero"
   ]
  }
 ],
 "metadata": {
  "kernelspec": {
   "display_name": "Python 3",
   "language": "python",
   "name": "python3"
  },
  "language_info": {
   "codemirror_mode": {
    "name": "ipython",
    "version": 3
   },
   "file_extension": ".py",
   "mimetype": "text/x-python",
   "name": "python",
   "nbconvert_exporter": "python",
   "pygments_lexer": "ipython3",
   "version": "3.12.6"
  }
 },
 "nbformat": 4,
 "nbformat_minor": 2
}
