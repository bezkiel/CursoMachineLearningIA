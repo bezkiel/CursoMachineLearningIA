import pandas as pd
import numpy as np

def load_data(file_path):
    """Carga el dataset desde un archivo CSV."""
    return pd.read_csv(file_path)

def convert_to_datetime(df, columns):
    """Convierte las columnas especificadas a tipo datetime."""
    for column in columns:
        df[column] = pd.to_datetime(df[column])
    return df

def create_date_features(df, date_column):
    """Crea nuevas características basadas en una columna de fecha."""
    df[f'{date_column}_Year'] = df[date_column].dt.year
    df[f'{date_column}_Month'] = df[date_column].dt.month
    df[f'{date_column}_Day'] = df[date_column].dt.day
    return df

def calculate_time_differences(df, start_column, end_column, new_column_name):
    """Calcula la diferencia de tiempo entre dos columnas de fechas en horas."""
    df[new_column_name] = (df[start_column] - df[end_column]).dt.total_seconds() / 3600
    return df

def normalize_columns(df, columns):
    """Normaliza las columnas numéricas especificadas."""
    df[columns] = (df[columns] - df[columns].mean()) / df[columns].std()
    return df

def encode_categorical_columns(df, columns):
    """Codifica las columnas categóricas especificadas."""
    return pd.get_dummies(df, columns=columns, drop_first=True)

def drop_columns(df, columns):
    """Elimina las columnas especificadas del dataframe."""
    df.drop(columns, axis=1, inplace=True)
    return df

def handle_missing_values(df):
    """Maneja los valores nulos rellenándolos con la media de la columna."""
    df.fillna(df.mean(), inplace=True)
    return df

def save_cleaned_data(df, output_file_path):
    """Guarda el dataframe limpio en un nuevo archivo CSV."""
    df.to_csv(output_file_path, index=False)

def main(input_file, output_file):
    """Función principal que ejecuta el proceso completo de limpieza y transformación."""
    df = load_data(input_file)
    df = convert_to_datetime(df, ['TransactionDate', 'PreviousTransactionDate'])
    df = create_date_features(df, 'TransactionDate')
    df = calculate_time_differences(df, 'TransactionDate', 'PreviousTransactionDate', 'TimeSinceLastTransaction')
    df = normalize_columns(df, ['TransactionAmount', 'TransactionDuration', 'LoginAttempts', 'AccountBalance', 'CustomerAge'])
    df = encode_categorical_columns(df, ['TransactionType', 'Location', 'DeviceID', 'MerchantID', 'Channel', 'CustomerOccupation'])
    df = drop_columns(df, ['TransactionID', 'AccountID', 'IP Address'])
    df = handle_missing_values(df)
    save_cleaned_data(df, output_file)
    print("Limpieza y transformación completadas.")

if __name__ == "__main__":
    input_file = 'C:\\Users\\Benjamin Villacorta\\Documents\\Python\\CursoML\\archive\\bank_transactions_data_2.csv'
    output_file = 'C:\\Users\\Benjamin Villacorta\\Documents\\Python\\CursoML\\archive\\bank_transactions_data_clean.csv'
    main(input_file, output_file)
